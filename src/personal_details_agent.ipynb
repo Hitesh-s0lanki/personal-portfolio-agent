{
 "cells": [
  {
   "cell_type": "code",
   "execution_count": 5,
   "id": "39e1560a",
   "metadata": {},
   "outputs": [],
   "source": [
    "import os\n",
    "import json\n",
    "from dotenv import load_dotenv\n",
    "\n",
    "from pypdf import PdfReader\n",
    "import gradio as gr\n",
    "\n",
    "load_dotenv()\n",
    "\n",
    "os.environ[\"OPENAI_API_KEY\"] = os.getenv('OPENAI_API_KEY')\n",
    "google_api_key = os.getenv('GOOGLE_API_KEY')"
   ]
  },
  {
   "cell_type": "code",
   "execution_count": 6,
   "id": "6af4e2dc",
   "metadata": {},
   "outputs": [],
   "source": [
    "# defining the model\n",
    "from openai import OpenAI\n",
    "\n",
    "# Openai Model\n",
    "openai = OpenAI()\n",
    "\n",
    "# Gemini Model\n",
    "gemini = OpenAI(api_key=google_api_key, base_url=\"https://generativelanguage.googleapis.com/v1beta/openai/\")"
   ]
  },
  {
   "cell_type": "code",
   "execution_count": 7,
   "id": "2e0f2693",
   "metadata": {},
   "outputs": [
    {
     "name": "stdout",
     "output_type": "stream",
     "text": [
      "   \n",
      "Contact\n",
      "9004713782 (Mobile)\n",
      "hiteshsolanki4623@gmail.com\n",
      "www.linkedin.com/in/hitesh-\n",
      "solanki-a058872a0 (LinkedIn)\n",
      "Top Skills\n",
      "vite\n",
      "Algorithms\n",
      "appwrite\n",
      "Certifications\n",
      "DevOps Engineer\n",
      "gRPC Masterclass with Java &\n",
      "Spring Boot [ Hands-On]\n",
      "MEDDICC MEDDPICC Sales\n",
      "training\n",
      "Hitesh Solanki\n",
      "Got an idea? Let's build it together!‎ | Software Engineer\n",
      "Mumbai, Maharashtra, India\n",
      "Summary\n",
      "I'm a passionate problem solver and software developer from India\n",
      "with expertise in multiple programming languages and a strong\n",
      "understanding of data structures and algorithms. I love building\n",
      "web applications and constantly challenge myself with LeetCode\n",
      "problems to improve my problem-solving skills.\n",
      "Experience\n",
      "Freelencer\n",
      "Freelance\n",
      "April 2025 - Present (4 months)\n",
      "Mumbai, Maharashtra, India\n",
      "• Developed and implemented full-stack applications for various clients,\n",
      "enhancing their technology capabilities and AI integration.  \n",
      "• Collaborated with startups to create innovative solutions, leveraging cutting-\n",
      "edge technologies to drive project success.  \n",
      "• Achieved a 30% increase in project efficiency through streamlined\n",
      "development processes and effective communication.\n",
      "‎JustWalkIndia\n",
      "Builder\n",
      "November 2024 - March 2025 (5 months)\n",
      "Mumbai, Maharashtra, India\n",
      "JustWalkIndia is a venture by 26ideas\n",
      "Led external integrations, including WhatsApp and SMS services partners, and\n",
      "Zerobounce for\n",
      "email validation.\n",
      "Managed Bird.com CRM, overseeing lead generation, campaign management,\n",
      "contact creation,\n",
      "workflow automation, and integrations.\n",
      "Spearheaded the Meta Pixel integration, collaborating with the tech team to\n",
      "enhance tracking\n",
      "and audience insights.\n",
      "  Page 1 of 3   \n",
      "Implemented and maintained UTM tracking and analytics monitoring via\n",
      "Mixpanel, Microsoft\n",
      "Clarity, and Google Analytics.\n",
      "Led project management efforts to develop internal dashboards for data\n",
      "visualization and\n",
      "reporting.\n",
      "Optimized database queries and handled data management at the RDS\n",
      "PostgreSQL level for\n",
      "efficient operations.\n",
      "26ideas\n",
      "1 year\n",
      "Software Engineering Lead\n",
      "August 2024 - March 2025 (8 months)\n",
      "Mumbai, Maharashtra, India\n",
      "Developed an internal business CRM (crm.26ideas.com) from scratch using\n",
      "Next.js, NestJS,\n",
      "Prisma, PostgreSQL, and OpenAI for AI utilities.\n",
      "Built the 26ideas website (26ideas.com) using Next.js, implementing the\n",
      "provided UX/UI\n",
      "design.\n",
      "Created Kyabananahai.com, an AI-based solution for the daily meal planning\n",
      "problem.\n",
      "Assisted in DALL·E image generation and data generation for eventcrm.io,\n",
      "producing 3,000\n",
      "unique dish images.\n",
      "Managed AWS cost optimization and cloud architecture to ensure efficiency.\n",
      "Developed static business overview sites, including Shopyara (shopyara.in)\n",
      "and Podium\n",
      "Sports (podium-sport-app-fe.vercel.app).\n",
      "Built a CRM for eventcrm.io, focusing on lead generation and sales\n",
      "management.\n",
      "Handled external service API integrations, including Alendie for WhatsApp and\n",
      "SMS\n",
      "services.\n",
      "Managed the full end-to-end campaign tracking and lead generation system for\n",
      "Bird.com\n",
      "CRM.\n",
      "Software Engineer Intern\n",
      "  Page 2 of 3   \n",
      "April 2024 - August 2024 (5 months)\n",
      "Mumbai, Maharashtra, India\n",
      "1. 26ideas is a full-stack venture studio that builds, incubates, and invests in\n",
      "early-stage\n",
      "startups.\n",
      "2. Gained hands-on experience using ChatGPT for automation and AI-driven\n",
      "applications.\n",
      "3. Developed a resume reader utilizing RAG (Retrieval-Augmented\n",
      "Generation), LangChain,\n",
      "Python, and Streamlit for intelligent document analysis.\n",
      "4. Integrated automated workflows for Typeform submissions, using Google\n",
      "Apps Script for email\n",
      "triggers and OpenAI for form summarization.\n",
      "5. Built foundational components of CRM tools, including roles management,\n",
      "product categories,\n",
      "subcategories, users, projects, and task management.\n",
      "Education\n",
      "Mumbai University \n",
      "Bachelor of Science - BS, Information Technology · (July 2022 - June 2025)\n",
      "  Page 3 of 3\n"
     ]
    }
   ],
   "source": [
    "## Read the text from file \n",
    "\n",
    "reader = PdfReader(\"./public/Profile.pdf\")\n",
    "linkedin = \"\"\n",
    "for page in reader.pages:\n",
    "    text = page.extract_text()\n",
    "    if text:\n",
    "        linkedin += text\n",
    "\n",
    "print(linkedin)"
   ]
  },
  {
   "cell_type": "code",
   "execution_count": 8,
   "id": "5001a0ca",
   "metadata": {},
   "outputs": [
    {
     "data": {
      "text/plain": [
       "'### **Hitesh Solanki – Software Engineer | AI-Driven Builder**\\n\\n📍 Mumbai, Maharashtra, India\\n📞 9004713782\\n📧 [hiteshsolanki4623@gmail.com](mailto:hiteshsolanki4623@gmail.com)\\n🔗 [LinkedIn](https://www.linkedin.com/in/hitesh-solanki-a058872a0)\\n\\n---\\n\\n### **Summary**\\n\\nA passionate problem solver and full-stack software developer with strong fundamentals in data structures and algorithms. Enthusiastic about building scalable web applications and integrating AI. Actively solving LeetCode problems to enhance algorithmic skills.\\n\\n---\\n\\n### **Experience**\\n\\n**🛠️ Software Engineer (Strique AI)** | Jun 2025 – Present\\n\\n* Handled integrations like WhatsApp, SMS, Zerobounce, and Meta Pixel.\\n* Managed CRM (Bird.com) campaigns, leads, and workflows.\\n* Implemented analytics (Mixpanel, GA, MS Clarity) and PostgreSQL optimization.\\n\\n**🔧 Freelance Software Developer** | Apr 2025 – Jun 2025\\n\\n* Delivered full-stack solutions with AI integration for various clients.\\n* Collaborated with startups to innovate tech workflows.\\n* Improved project efficiency by 30% via streamlined dev practices.\\n\\n**🛠️ Builder at JustWalkIndia (26ideas Venture)** | Nov 2024 – Mar 2025\\n\\n* Handled integrations like WhatsApp, SMS, Zerobounce, and Meta Pixel.\\n* Managed CRM (Bird.com) campaigns, leads, and workflows.\\n* Implemented analytics (Mixpanel, GA, MS Clarity) and PostgreSQL optimization.\\n\\n**💼 Software Engineering Lead at 26ideas** | Aug 2024 – Mar 2025\\n\\n* Built internal CRM using Next.js, NestJS, Prisma, PostgreSQL, and OpenAI.\\n* Launched multiple sites like 26ideas.com, kyabananahai.com, shopyara.in.\\n* Managed AWS architecture, campaign tracking, and API integrations.\\n\\n**👨\\u200d💻 Software Engineer Intern at 26ideas** | Apr 2024 – Aug 2024\\n\\n* Built a resume reader using RAG, LangChain, Python & Streamlit.\\n* Automated workflows using Typeform, Google Apps Script & OpenAI.\\n* Developed core CRM components (roles, projects, task mgmt).\\n\\n---\\n\\n### **Education**\\n\\n🎓 **Mumbai University**\\nBSc in Information Technology | Jul 2022 – Jun 2025\\n\\n---\\n\\n### **Certifications**\\n\\n* **DevOps Engineer**\\n* **gRPC Masterclass with Java & Spring Boot**\\n* **MEDDICC / MEDDPICC Sales Training**\\n\\n---\\n\\n### **Top Skills**\\n\\n* AI\\n* Algorithms\\n* DSA\\n* Nextjs\\n* Java\\n* Spring Boot\\n* Protocol Buffer\\n* OpenAI\\n* Web Develepoment \\n* End to end Product\\n\\n---\\n'"
      ]
     },
     "execution_count": 8,
     "metadata": {},
     "output_type": "execute_result"
    }
   ],
   "source": [
    "with open(\"./public/profile.txt\", \"r\", encoding=\"utf-8\") as f:\n",
    "    summary = f.read()\n",
    "\n",
    "summary"
   ]
  },
  {
   "cell_type": "code",
   "execution_count": 9,
   "id": "c8b8093d",
   "metadata": {},
   "outputs": [],
   "source": [
    "name = \"Hitesh Solanki\""
   ]
  },
  {
   "cell_type": "code",
   "execution_count": 10,
   "id": "a43d6a56",
   "metadata": {},
   "outputs": [],
   "source": [
    "system_prompt = f\"You are acting as {name}. You are answering questions on {name}'s website, \\\n",
    "particularly questions related to {name}'s career, background, skills and experience. \\\n",
    "Your responsibility is to represent {name} for interactions on the website as faithfully as possible. \\\n",
    "You are given a summary of {name}'s background and LinkedIn profile which you can use to answer questions. \\\n",
    "Be professional and engaging, as if talking to a potential client or future employer who came across the website. \\\n",
    "If you don't know the answer, say so.\"\n",
    "\n",
    "system_prompt += f\"\\n\\n## Summary:\\n{summary}\\n\\n## LinkedIn Profile:\\n{linkedin}\\n\\n\"\n",
    "system_prompt += f\"With this context, please chat with the user, always staying in character as {name}.\""
   ]
  },
  {
   "cell_type": "code",
   "execution_count": 11,
   "id": "8b04ca87",
   "metadata": {},
   "outputs": [],
   "source": [
    "def chat(message, history):\n",
    "    messages = [{\"role\": \"system\", \"content\": system_prompt}] + history + [{\"role\": \"user\", \"content\": message}]\n",
    "    response = openai.chat.completions.create(model=\"gpt-4o-mini\", messages=messages)\n",
    "    return response.choices[0].message.content"
   ]
  },
  {
   "cell_type": "code",
   "execution_count": 12,
   "id": "3a6b05a7",
   "metadata": {},
   "outputs": [
    {
     "name": "stdout",
     "output_type": "stream",
     "text": [
      "* Running on local URL:  http://127.0.0.1:7860\n",
      "* To create a public link, set `share=True` in `launch()`.\n"
     ]
    },
    {
     "data": {
      "text/html": [
       "<div><iframe src=\"http://127.0.0.1:7860/\" width=\"100%\" height=\"500\" allow=\"autoplay; camera; microphone; clipboard-read; clipboard-write;\" frameborder=\"0\" allowfullscreen></iframe></div>"
      ],
      "text/plain": [
       "<IPython.core.display.HTML object>"
      ]
     },
     "metadata": {},
     "output_type": "display_data"
    },
    {
     "data": {
      "text/plain": []
     },
     "execution_count": 12,
     "metadata": {},
     "output_type": "execute_result"
    }
   ],
   "source": [
    "gr.ChatInterface(chat, type=\"messages\").launch()"
   ]
  },
  {
   "cell_type": "code",
   "execution_count": 13,
   "id": "dd461c2a",
   "metadata": {},
   "outputs": [],
   "source": [
    "# Create a Pydantic model for the Evaluation\n",
    "from pydantic import BaseModel\n",
    "\n",
    "class Evaluation(BaseModel):\n",
    "    is_acceptable: bool\n",
    "    feedback: str"
   ]
  },
  {
   "cell_type": "code",
   "execution_count": 14,
   "id": "81b90c63",
   "metadata": {},
   "outputs": [],
   "source": [
    "\n",
    "evaluator_system_prompt = f\"You are an evaluator that decides whether a response to a question is acceptable. \\\n",
    "You are provided with a conversation between a User and an Agent. Your task is to decide whether the Agent's latest response is acceptable quality. \\\n",
    "The Agent is playing the role of {name} and is representing {name} on their website. \\\n",
    "The Agent has been instructed to be professional and engaging, as if talking to a potential client or future employer who came across the website. \\\n",
    "The Agent has been provided with context on {name} in the form of their summary and LinkedIn details. Here's the information:\"\n",
    "\n",
    "evaluator_system_prompt += f\"\\n\\n## Summary:\\n{summary}\\n\\n## LinkedIn Profile:\\n{linkedin}\\n\\n\"\n",
    "evaluator_system_prompt += f\"With this context, please evaluate the latest response, replying with whether the response is acceptable and your feedback.\""
   ]
  },
  {
   "cell_type": "code",
   "execution_count": 15,
   "id": "c1ddbac3",
   "metadata": {},
   "outputs": [],
   "source": [
    "def evaluator_user_prompt(reply, message, history):\n",
    "    user_prompt = f\"Here's the conversation between the User and the Agent: \\n\\n{history}\\n\\n\"\n",
    "    user_prompt += f\"Here's the latest message from the User: \\n\\n{message}\\n\\n\"\n",
    "    user_prompt += f\"Here's the latest response from the Agent: \\n\\n{reply}\\n\\n\"\n",
    "    user_prompt += \"Please evaluate the response, replying with whether it is acceptable and your feedback.\"\n",
    "    return user_prompt"
   ]
  },
  {
   "cell_type": "code",
   "execution_count": 16,
   "id": "d5f9dcc5",
   "metadata": {},
   "outputs": [],
   "source": [
    "def evaluate(reply, message, history) -> Evaluation:\n",
    "\n",
    "    messages = [{\"role\": \"system\", \"content\": evaluator_system_prompt}] + [{\"role\": \"user\", \"content\": evaluator_user_prompt(reply, message, history)}]\n",
    "    response = gemini.beta.chat.completions.parse(model=\"gemini-2.0-flash\", messages=messages, response_format=Evaluation)\n",
    "    return response.choices[0].message.parsed"
   ]
  },
  {
   "cell_type": "code",
   "execution_count": 19,
   "id": "68033a63",
   "metadata": {},
   "outputs": [],
   "source": [
    "def rerun(reply, message, history, feedback):\n",
    "    updated_system_prompt = system_prompt + \"\\n\\n## Previous answer rejected\\nYou just tried to reply, but the quality control rejected your reply\\n\"\n",
    "    updated_system_prompt += f\"## Your attempted answer:\\n{reply}\\n\\n\"\n",
    "    updated_system_prompt += f\"## Reason for rejection:\\n{feedback}\\n\\n\"\n",
    "    messages = [{\"role\": \"system\", \"content\": updated_system_prompt}] + history + [{\"role\": \"user\", \"content\": message}]\n",
    "    response = openai.chat.completions.create(model=\"gpt-4o-mini\", messages=messages)\n",
    "    return response.choices[0].message.content"
   ]
  },
  {
   "cell_type": "code",
   "execution_count": 17,
   "id": "5d65942a",
   "metadata": {},
   "outputs": [],
   "source": [
    "messages = [{\"role\": \"system\", \"content\": system_prompt}] + [{\"role\": \"user\", \"content\": \"do you hold a patent?\"}]\n",
    "response = openai.chat.completions.create(model=\"gpt-4o-mini\", messages=messages)\n",
    "reply = response.choices[0].message.content"
   ]
  },
  {
   "cell_type": "code",
   "execution_count": 20,
   "id": "74c4e595",
   "metadata": {},
   "outputs": [
    {
     "data": {
      "text/plain": [
       "Evaluation(is_acceptable=True, feedback=\"The agent provided an accurate and professional response to the user's question, based on the information provided. It also offered to answer other questions, which is appropriate.\")"
      ]
     },
     "execution_count": 20,
     "metadata": {},
     "output_type": "execute_result"
    }
   ],
   "source": [
    "\n",
    "evaluate(reply, \"do you hold a patent?\", messages[:1])"
   ]
  },
  {
   "cell_type": "code",
   "execution_count": 21,
   "id": "eb5cd3c2",
   "metadata": {},
   "outputs": [],
   "source": [
    "def chat(message, history):\n",
    "    if \"patent\" in message:\n",
    "        system = system_prompt + \"\\n\\nEverything in your reply needs to be in pig latin - \\\n",
    "              it is mandatory that you respond only and entirely in pig latin\"\n",
    "    else:\n",
    "        system = system_prompt\n",
    "    messages = [{\"role\": \"system\", \"content\": system}] + history + [{\"role\": \"user\", \"content\": message}]\n",
    "    response = openai.chat.completions.create(model=\"gpt-4o-mini\", messages=messages)\n",
    "    reply =response.choices[0].message.content\n",
    "\n",
    "    evaluation = evaluate(reply, message, history)\n",
    "    \n",
    "    if evaluation.is_acceptable:\n",
    "        print(\"Passed evaluation - returning reply\")\n",
    "    else:\n",
    "        print(\"Failed evaluation - retrying\")\n",
    "        print(evaluation.feedback)\n",
    "        reply = rerun(reply, message, history, evaluation.feedback)       \n",
    "    return reply"
   ]
  },
  {
   "cell_type": "code",
   "execution_count": 22,
   "id": "ffb89a7f",
   "metadata": {},
   "outputs": [
    {
     "name": "stdout",
     "output_type": "stream",
     "text": [
      "* Running on local URL:  http://127.0.0.1:7861\n",
      "* To create a public link, set `share=True` in `launch()`.\n"
     ]
    },
    {
     "data": {
      "text/html": [
       "<div><iframe src=\"http://127.0.0.1:7861/\" width=\"100%\" height=\"500\" allow=\"autoplay; camera; microphone; clipboard-read; clipboard-write;\" frameborder=\"0\" allowfullscreen></iframe></div>"
      ],
      "text/plain": [
       "<IPython.core.display.HTML object>"
      ]
     },
     "metadata": {},
     "output_type": "display_data"
    },
    {
     "data": {
      "text/plain": []
     },
     "execution_count": 22,
     "metadata": {},
     "output_type": "execute_result"
    }
   ],
   "source": [
    "gr.ChatInterface(chat, type=\"messages\").launch()"
   ]
  },
  {
   "cell_type": "code",
   "execution_count": null,
   "id": "f52ba7c4",
   "metadata": {},
   "outputs": [],
   "source": []
  }
 ],
 "metadata": {
  "kernelspec": {
   "display_name": "foundation",
   "language": "python",
   "name": "python3"
  },
  "language_info": {
   "codemirror_mode": {
    "name": "ipython",
    "version": 3
   },
   "file_extension": ".py",
   "mimetype": "text/x-python",
   "name": "python",
   "nbconvert_exporter": "python",
   "pygments_lexer": "ipython3",
   "version": "3.12.7"
  }
 },
 "nbformat": 4,
 "nbformat_minor": 5
}
