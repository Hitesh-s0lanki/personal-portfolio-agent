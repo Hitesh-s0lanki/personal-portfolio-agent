{
 "cells": [
  {
   "cell_type": "code",
   "execution_count": 2,
   "id": "4c334738",
   "metadata": {},
   "outputs": [],
   "source": [
    "import os\n",
    "from dotenv import load_dotenv\n",
    "\n",
    "load_dotenv()\n",
    "\n",
    "os.environ[\"OPENAI_API_KEY\"] = os.getenv(\"OPENAI_API_KEY\")\n"
   ]
  },
  {
   "cell_type": "code",
   "execution_count": 3,
   "id": "8a2c2a4b",
   "metadata": {},
   "outputs": [],
   "source": [
    "from openai import OpenAI\n",
    "\n",
    "openai = OpenAI()"
   ]
  },
  {
   "cell_type": "code",
   "execution_count": 5,
   "id": "961a9128",
   "metadata": {},
   "outputs": [],
   "source": [
    "messages = [{\"role\":\"user\" , \"content\":\"What is 2+2?\"}]"
   ]
  },
  {
   "cell_type": "code",
   "execution_count": 6,
   "id": "95813682",
   "metadata": {},
   "outputs": [
    {
     "name": "stdout",
     "output_type": "stream",
     "text": [
      "2 + 2 equals 4.\n"
     ]
    }
   ],
   "source": [
    "response = openai.chat.completions.create(\n",
    "    model=\"gpt-4o-mini\",\n",
    "    messages=messages\n",
    ")\n",
    "\n",
    "print(response.choices[0].message.content)"
   ]
  },
  {
   "cell_type": "code",
   "execution_count": 7,
   "id": "50403260",
   "metadata": {},
   "outputs": [],
   "source": [
    "question = \"Please propose a hard, challenging question to assess someone's IQ. Respond only with the question.\"\n",
    "messages = [{\"role\": \"user\", \"content\": question}]"
   ]
  },
  {
   "cell_type": "code",
   "execution_count": 8,
   "id": "dfabafa8",
   "metadata": {},
   "outputs": [
    {
     "name": "stdout",
     "output_type": "stream",
     "text": [
      "If 5 machines take 5 minutes to make 5 widgets, how long would 100 machines take to make 100 widgets?\n"
     ]
    }
   ],
   "source": [
    "response = openai.chat.completions.create(\n",
    "    model=\"gpt-4.1-mini\",\n",
    "    messages=messages\n",
    ")\n",
    "\n",
    "question = response.choices[0].message.content\n",
    "\n",
    "print(question)"
   ]
  },
  {
   "cell_type": "code",
   "execution_count": 9,
   "id": "629f46a1",
   "metadata": {},
   "outputs": [],
   "source": [
    "messages = [{\"role\": \"user\", \"content\": question}]"
   ]
  },
  {
   "cell_type": "code",
   "execution_count": 10,
   "id": "3325b54b",
   "metadata": {},
   "outputs": [
    {
     "name": "stdout",
     "output_type": "stream",
     "text": [
      "Let's analyze the problem step-by-step:\n",
      "\n",
      "- 5 machines take 5 minutes to make 5 widgets.\n",
      "  \n",
      "This means:\n",
      "- 5 machines → 5 widgets in 5 minutes\n",
      "- So, 1 machine → 1 widget in 5 minutes (because if 5 machines make 5 widgets in 5 minutes, each machine is making 1 widget in 5 minutes)\n",
      "\n",
      "Now, question:\n",
      "- How long would 100 machines take to make 100 widgets?\n",
      "\n",
      "Since each machine makes 1 widget in 5 minutes, 100 machines will make 100 widgets in 5 minutes as well. \n",
      "\n",
      "**Answer: 5 minutes**\n"
     ]
    }
   ],
   "source": [
    "response = openai.chat.completions.create(\n",
    "    model=\"gpt-4.1-mini\",\n",
    "    messages=messages\n",
    ")\n",
    "\n",
    "answer = response.choices[0].message.content\n",
    "print(answer)"
   ]
  },
  {
   "cell_type": "code",
   "execution_count": 11,
   "id": "71f08764",
   "metadata": {},
   "outputs": [
    {
     "data": {
      "text/markdown": [
       "Let's analyze the problem step-by-step:\n",
       "\n",
       "- 5 machines take 5 minutes to make 5 widgets.\n",
       "  \n",
       "This means:\n",
       "- 5 machines → 5 widgets in 5 minutes\n",
       "- So, 1 machine → 1 widget in 5 minutes (because if 5 machines make 5 widgets in 5 minutes, each machine is making 1 widget in 5 minutes)\n",
       "\n",
       "Now, question:\n",
       "- How long would 100 machines take to make 100 widgets?\n",
       "\n",
       "Since each machine makes 1 widget in 5 minutes, 100 machines will make 100 widgets in 5 minutes as well. \n",
       "\n",
       "**Answer: 5 minutes**"
      ],
      "text/plain": [
       "<IPython.core.display.Markdown object>"
      ]
     },
     "metadata": {},
     "output_type": "display_data"
    }
   ],
   "source": [
    "from IPython.display import Markdown, display\n",
    "\n",
    "display(Markdown(answer))"
   ]
  },
  {
   "cell_type": "code",
   "execution_count": null,
   "id": "32463dd2",
   "metadata": {},
   "outputs": [],
   "source": []
  }
 ],
 "metadata": {
  "kernelspec": {
   "display_name": "foundation",
   "language": "python",
   "name": "python3"
  },
  "language_info": {
   "codemirror_mode": {
    "name": "ipython",
    "version": 3
   },
   "file_extension": ".py",
   "mimetype": "text/x-python",
   "name": "python",
   "nbconvert_exporter": "python",
   "pygments_lexer": "ipython3",
   "version": "3.12.7"
  }
 },
 "nbformat": 4,
 "nbformat_minor": 5
}
