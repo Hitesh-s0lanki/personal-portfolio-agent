{
 "cells": [
  {
   "cell_type": "code",
   "execution_count": null,
   "id": "aa481872",
   "metadata": {},
   "outputs": [],
   "source": [
    "import os\n",
    "from dotenv import load_dotenv\n",
    "\n",
    "load_dotenv()\n",
    "\n",
    "os.environ[\"OPENAI_API_KEY\"] = os.getenv('OPENAI_API_KEY')"
   ]
  },
  {
   "cell_type": "code",
   "execution_count": 3,
   "id": "8b6a88e6",
   "metadata": {},
   "outputs": [],
   "source": [
    "from openai import OpenAI\n",
    "\n",
    "openai = OpenAI()"
   ]
  },
  {
   "cell_type": "code",
   "execution_count": 4,
   "id": "2e536dd1",
   "metadata": {},
   "outputs": [],
   "source": [
    "request = \"Please come up with a challenging, nuanced question that I can ask a number of LLMs to evaluate their intelligence. \"\n",
    "request += \"Answer only with the question, no explanation.\"\n",
    "messages = [{\"role\": \"user\", \"content\": request}]"
   ]
  },
  {
   "cell_type": "code",
   "execution_count": 5,
   "id": "1420da34",
   "metadata": {},
   "outputs": [
    {
     "name": "stdout",
     "output_type": "stream",
     "text": [
      "How would you reconcile the apparent contradictions between utilitarian ethics and Kantian deontological ethics when addressing a moral dilemma in a real-world scenario?\n"
     ]
    }
   ],
   "source": [
    "response = openai.chat.completions.create(\n",
    "    model=\"gpt-4o-mini\",\n",
    "    messages=messages,\n",
    ")\n",
    "question = response.choices[0].message.content\n",
    "print(question)"
   ]
  },
  {
   "cell_type": "code",
   "execution_count": 6,
   "id": "1a2ec11f",
   "metadata": {},
   "outputs": [],
   "source": [
    "from IPython.display import Markdown, display"
   ]
  },
  {
   "cell_type": "code",
   "execution_count": 7,
   "id": "24d08396",
   "metadata": {},
   "outputs": [],
   "source": [
    "competitors = []\n",
    "answers = []\n",
    "messages = [{\"role\": \"user\", \"content\": question}]"
   ]
  },
  {
   "cell_type": "code",
   "execution_count": 8,
   "id": "60648133",
   "metadata": {},
   "outputs": [
    {
     "data": {
      "text/markdown": [
       "Reconciling the apparent contradictions between utilitarian ethics and Kantian deontological ethics when addressing a moral dilemma involves recognizing the strengths and weaknesses of each ethical framework and attempting to integrate their principles. Here’s a step-by-step approach:\n",
       "\n",
       "1. **Understanding the Frameworks**:\n",
       "   - **Utilitarianism** focuses on the consequences of actions, emphasizing the greatest good for the greatest number. Actions are evaluated based on their outcomes, aiming to maximize overall happiness or utility.\n",
       "   - **Kantian Deontology** emphasizes duty, intention, and adherence to moral rules or categorical imperatives, regardless of the consequences. An action is considered morally right if it is performed out of a sense of duty and adheres to universalizable maxims.\n",
       "\n",
       "2. **Identifying the Moral Dilemma**:\n",
       "   - Clearly define the scenario at hand, outlining the parties involved, possible actions, and their potential consequences. Understand what ethical principles are at stake and how they relate to utilitarian and deontological perspectives.\n",
       "\n",
       "3. **Evaluating the Utilitarian Approach**:\n",
       "   - Assess the potential outcomes of various actions available in the dilemma. Calculate the overall utility produced by each option. Consider both short-term and long-term consequences while taking into account the well-being of all affected parties.\n",
       "\n",
       "4. **Applying Kantian Analysis**:\n",
       "   - Consider the intentions behind each action and the ethical rules or duties involved. Ask whether the actions respect the dignity of individuals, could be universalized as a moral law, and uphold rights and obligations. Ensure that individuals are treated as ends in themselves, not merely as means to an end.\n",
       "\n",
       "5. **Finding Common Ground**:\n",
       "   - Look for overlap between the two ethical perspectives. Are there actions that maximize utility while also respecting moral duties? Could there be a compromise or a middle ground where both perspectives provide valuable insights?\n",
       "   - For example, can a policy be designed that maximizes overall happiness while also ensuring that individuals' rights are protected?\n",
       "\n",
       "6. **Prioritizing Contextual Considerations**:\n",
       "   - In real-world scenarios, unique contextual factors often play a key role. Reflect on how the specific circumstances might sway the ethical balance between utilitarian and Kantian approaches. In some situations, the urgency of consequences might necessitate a more consequentialist approach, whereas in others, steadfast adherence to duties may be paramount.\n",
       "\n",
       "7. **Ethical Pluralism**:\n",
       "   - Acknowledge that moral dilemmas often do not have clear-cut solutions. Embrace an ethical pluralism that recognizes the value of both utilitarian and deontological considerations. This approach allows for a more nuanced understanding of morality that incorporates various dimensions of ethical reasoning.\n",
       "\n",
       "8. **Decision-Making**:\n",
       "   - Ultimately, make a decision that reflects a balanced consideration of both ethical theories. Articulate the reasoning behind the chosen action, clearly identifying how it aligns with both utilitarian outcomes and Kantian duties.\n",
       "\n",
       "By harmonizing the consequentialist focus on outcomes with the deontological emphasis on principles, one can arrive at a more comprehensive ethical response to real-world dilemmas. The key is maintaining an open dialogue between the two frameworks, allowing them to inform and enrich each other rather than viewing them as strictly opposed."
      ],
      "text/plain": [
       "<IPython.core.display.Markdown object>"
      ]
     },
     "metadata": {},
     "output_type": "display_data"
    }
   ],
   "source": [
    "model_name = \"gpt-4o-mini\"\n",
    "\n",
    "response = openai.chat.completions.create(model=model_name, messages=messages)\n",
    "answer = response.choices[0].message.content\n",
    "\n",
    "display(Markdown(answer))\n",
    "competitors.append(model_name)\n",
    "answers.append(answer)"
   ]
  },
  {
   "cell_type": "code",
   "execution_count": null,
   "id": "53191922",
   "metadata": {},
   "outputs": [],
   "source": []
  }
 ],
 "metadata": {
  "kernelspec": {
   "display_name": "foundation",
   "language": "python",
   "name": "python3"
  },
  "language_info": {
   "codemirror_mode": {
    "name": "ipython",
    "version": 3
   },
   "file_extension": ".py",
   "mimetype": "text/x-python",
   "name": "python",
   "nbconvert_exporter": "python",
   "pygments_lexer": "ipython3",
   "version": "3.12.7"
  }
 },
 "nbformat": 4,
 "nbformat_minor": 5
}
