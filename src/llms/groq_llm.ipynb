{
 "cells": [
  {
   "cell_type": "code",
   "execution_count": 4,
   "id": "2171ad46",
   "metadata": {},
   "outputs": [],
   "source": [
    "import os\n",
    "from dotenv import load_dotenv\n",
    "from IPython.display import Markdown, display\n",
    "\n",
    "load_dotenv()\n",
    "\n",
    "groq_api_key = os.getenv('GROQ_API_KEY')"
   ]
  },
  {
   "cell_type": "code",
   "execution_count": 8,
   "id": "3bd5b52d",
   "metadata": {},
   "outputs": [],
   "source": [
    "question = \"\"\"How would you reconcile the apparent contradictions between utilitarian ethics and Kantian deontological ethics when addressing a moral dilemma in a real-world scenario?\"\"\"\n",
    "\n",
    "messages = [{\"role\": \"user\", \"content\": question}]"
   ]
  },
  {
   "cell_type": "code",
   "execution_count": 9,
   "id": "01b67828",
   "metadata": {},
   "outputs": [],
   "source": [
    "from openai import OpenAI\n",
    "\n",
    "groq = OpenAI(api_key=groq_api_key, base_url=\"https://api.groq.com/openai/v1\")"
   ]
  },
  {
   "cell_type": "code",
   "execution_count": 10,
   "id": "efa3a059",
   "metadata": {},
   "outputs": [
    {
     "data": {
      "text/markdown": [
       "Reconciling the apparent contradictions between utilitarian ethics and Kantian deontological ethics is a complex task that requires careful consideration of the moral dilemma at hand. Here are some steps to help reconcile these contradictions in a real-world scenario:\n",
       "\n",
       "**Understand the key principles of each ethics theory:**\n",
       "\n",
       "1. **Utilitarian ethics**: This theory, developed by Jeremy Bentham and John Stuart Mill, aims to maximize overall happiness or well-being. It is often summarized as \"the greatest happiness for the greatest number.\"\n",
       "2. **Kantian deontological ethics**: This theory, developed by Immanuel Kant, emphasizes the importance of moral rules and duties, regardless of their consequences. It is often summarized as \"acting in accordance with a universal moral law.\"\n",
       "\n",
       "**Identify the moral dilemma:**\n",
       "\n",
       "Consider a real-world scenario, such as:\n",
       "\n",
       "* A doctor has two patients in need of a liver transplant. One patient is a young mother with two children, while the other is an elderly man with no dependents. The doctor only has one liver available for transplant. Who should receive the liver?\n",
       "\n",
       "**Apply utilitarian ethics:**\n",
       "\n",
       "From a utilitarian perspective, the doctor should prioritize the patient who will generate the greatest overall happiness or well-being. In this case, the young mother with two children might be considered the better candidate, as her survival would likely bring happiness to her children and family.\n",
       "\n",
       "**Apply Kantian deontological ethics:**\n",
       "\n",
       "From a Kantian perspective, the doctor should prioritize the patient based on a universal moral rule, such as \"save the life of the person who is most in need.\" In this case, the elderly man might be considered the better candidate, as he is more likely to die without the transplant. Alternatively, the doctor might consider a rule such as \"treat patients with equal respect and dignity,\" which would lead to a random selection or a first-come, first-served approach.\n",
       "\n",
       "**Reconcile the contradictions:**\n",
       "\n",
       "To reconcile the contradictions between utilitarian and Kantian ethics, consider the following strategies:\n",
       "\n",
       "1. **Hybrid approach**: Combine elements of both theories. For example, the doctor could consider the overall happiness and well-being of the patients, while also adhering to a moral rule, such as \"save the life of the person who is most in need.\"\n",
       "2. **Contextualize the moral rule**: Consider the specific context of the situation and adjust the moral rule accordingly. For example, in a situation where there are multiple patients in need of a transplant, a rule such as \"save the life of the person who is most in need\" might be modified to \"save the life of the person who has the greatest chance of survival.\"\n",
       "3. **Reflect on the moral implications**: Consider the long-term moral implications of each possible action. For example, if the doctor prioritizes the young mother, it may lead to a greater overall happiness, but it may also create a precedent for prioritizing certain patients over others based on arbitrary factors.\n",
       "4. **Consider the role of moral intuition**: Recognize that moral intuition can play a role in guiding decision-making. In some cases, a combination of utilitarian and Kantian considerations may lead to a decision that aligns with moral intuition.\n",
       "\n",
       "**Real-world application:**\n",
       "\n",
       "In real-world scenarios, moral dilemmas often involve complex, nuanced considerations. By combining elements of utilitarian and Kantian ethics, individuals can develop a more comprehensive and nuanced approach to moral decision-making. This might involve:\n",
       "\n",
       "1. **Establishing clear moral guidelines**: Develop and communicate clear moral guidelines that balance utilitarian and Kantian considerations.\n",
       "2. **Encouraging open discussion**: Foster open discussion and debate about moral dilemmas, considering multiple perspectives and ethical theories.\n",
       "3. **Embracing moral ambiguity**: Recognize that moral dilemmas often involve ambiguity and uncertainty, and be willing to adapt and revise decisions as new information becomes available.\n",
       "\n",
       "Ultimately, reconciling the contradictions between utilitarian and Kantian ethics requires a nuanced and context-dependent approach, considering the specific circumstances of each moral dilemma. By combining elements of both theories and reflecting on the moral implications of each possible action, individuals can develop a more comprehensive and ethical approach to decision-making."
      ],
      "text/plain": [
       "<IPython.core.display.Markdown object>"
      ]
     },
     "metadata": {},
     "output_type": "display_data"
    }
   ],
   "source": [
    "model_name = \"llama-3.3-70b-versatile\"\n",
    "\n",
    "response = groq.chat.completions.create(model=model_name, messages=messages)\n",
    "answer = response.choices[0].message.content\n",
    "\n",
    "display(Markdown(answer))"
   ]
  },
  {
   "cell_type": "code",
   "execution_count": null,
   "id": "6d1e21cd",
   "metadata": {},
   "outputs": [],
   "source": []
  }
 ],
 "metadata": {
  "kernelspec": {
   "display_name": "foundation",
   "language": "python",
   "name": "python3"
  },
  "language_info": {
   "codemirror_mode": {
    "name": "ipython",
    "version": 3
   },
   "file_extension": ".py",
   "mimetype": "text/x-python",
   "name": "python",
   "nbconvert_exporter": "python",
   "pygments_lexer": "ipython3",
   "version": "3.12.7"
  }
 },
 "nbformat": 4,
 "nbformat_minor": 5
}
