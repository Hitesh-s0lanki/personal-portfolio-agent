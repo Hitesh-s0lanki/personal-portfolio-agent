{
 "cells": [
  {
   "cell_type": "code",
   "execution_count": 3,
   "id": "ceea427e",
   "metadata": {},
   "outputs": [],
   "source": [
    "import os\n",
    "from dotenv import load_dotenv\n",
    "from IPython.display import Markdown, display\n",
    "\n",
    "load_dotenv()\n",
    "\n",
    "google_api_key = os.getenv('GOOGLE_API_KEY')"
   ]
  },
  {
   "cell_type": "code",
   "execution_count": 5,
   "id": "78fd1e86",
   "metadata": {},
   "outputs": [],
   "source": [
    "question = \"\"\"How would you reconcile the apparent contradictions between utilitarian ethics and Kantian deontological ethics when addressing a moral dilemma in a real-world scenario?\"\"\"\n",
    "\n",
    "messages = [{\"role\": \"user\", \"content\": question}]"
   ]
  },
  {
   "cell_type": "code",
   "execution_count": 6,
   "id": "35f39b45",
   "metadata": {},
   "outputs": [],
   "source": [
    "from openai import OpenAI\n",
    "\n",
    "gemini = OpenAI(api_key=google_api_key, base_url=\"https://generativelanguage.googleapis.com/v1beta/openai/\")\n",
    "model_name = \"gemini-2.0-flash\""
   ]
  },
  {
   "cell_type": "code",
   "execution_count": 7,
   "id": "df8086b3",
   "metadata": {},
   "outputs": [
    {
     "data": {
      "text/markdown": [
       "The apparent contradictions between utilitarian ethics and Kantian deontological ethics stem from their fundamentally different approaches to morality:\n",
       "\n",
       "*   **Utilitarianism:** Focuses on maximizing overall happiness or well-being. An action is morally right if it produces the greatest good for the greatest number. The ends justify the means.\n",
       "*   **Kantian Deontology:** Focuses on moral duties and universal principles. An action is morally right if it adheres to these duties, regardless of the consequences. The means are crucial; some actions are inherently wrong, regardless of their potential good outcomes.\n",
       "\n",
       "Reconciling these approaches in a real-world moral dilemma requires a nuanced strategy that considers both consequences and principles:\n",
       "\n",
       "**1. Acknowledge the Value of Both Frameworks:**\n",
       "\n",
       "*   Recognize that both utilitarianism and deontology offer valuable insights. Utilitarianism reminds us to consider the impact of our actions on others' well-being, while deontology reminds us to respect fundamental rights and moral obligations.\n",
       "\n",
       "**2. Identify the Key Principles and Potential Consequences:**\n",
       "\n",
       "*   **Deontological Analysis:** Identify relevant Kantian principles (e.g., the categorical imperative, treating people as ends in themselves, not merely as means, universalizability). Consider which duties apply in the situation. Would the action violate anyone's inherent rights or dignity?\n",
       "*   **Utilitarian Analysis:** Identify all stakeholders affected by the decision. Estimate the potential happiness or suffering that each possible action would produce for each stakeholder. Consider both short-term and long-term consequences.\n",
       "\n",
       "**3. Seek Common Ground and Overlap:**\n",
       "\n",
       "*   **Minimize Harm, Maximize Benefit Within Ethical Boundaries:**  Explore options that might achieve positive consequences while still adhering to fundamental ethical principles.  Is there a way to maximize overall happiness without violating someone's inherent rights or using them as a mere means?\n",
       "*   **Identify Actions That Align with Both Frameworks:**  Sometimes, the action that maximizes overall well-being also respects fundamental moral duties. For example, telling the truth might prevent harm and maintain trust.\n",
       "\n",
       "**4. Prioritize Fundamental Rights (with Nuance):**\n",
       "\n",
       "*   **Limited Rights, Limited Utilitarianism:** When a conflict arises between maximizing utility and protecting fundamental rights, deontology often argues for prioritizing rights. This doesn't mean ignoring consequences, but it means that some actions are simply off-limits, regardless of their potential benefits.\n",
       "*   **Justification for Rights Violation:** There are rare situations where violating a right might be morally justifiable under a utilitarian framework. This should only occur under extremely serious circumstances, with full transparency, and with careful consideration of minimizing harm and providing restitution/compensation. The burden of proof for violating a right is extremely high.  Consider the trolley problem - diverting the trolley to kill one to save five. This is where the conflict is starkest.\n",
       "\n",
       "**5. Employ the Principle of Double Effect (If Applicable):**\n",
       "\n",
       "*   This principle, often used in ethical dilemmas in healthcare, allows for an action with foreseeable negative consequences if:\n",
       "    *   The action itself is morally good or neutral.\n",
       "    *   The intention is to achieve the good effect, not the bad effect.\n",
       "    *   The good effect is not a result of the bad effect.\n",
       "    *   The good effect is proportionally as important as the bad effect.\n",
       "\n",
       "**6. Engage in Dialogue and Seek Input:**\n",
       "\n",
       "*   Consult with others who have different perspectives and ethical frameworks. This can help identify potential blind spots and ensure a more comprehensive analysis.\n",
       "\n",
       "**7. Make a Decision and Be Prepared to Justify It:**\n",
       "\n",
       "*   After carefully considering all factors, make a decision and be prepared to justify it based on both consequentialist and deontological reasoning. Acknowledge the limitations of your decision and any potential negative consequences.\n",
       "\n",
       "**Example: The Trolley Problem:**\n",
       "\n",
       "A classic example is the trolley problem: a trolley is headed toward five people on the tracks. You can pull a lever to divert the trolley to another track, where it will kill one person instead.\n",
       "\n",
       "*   **Utilitarianism:** Most utilitarians would argue that pulling the lever is morally right because it saves five lives at the cost of one.\n",
       "*   **Kantian Deontology:** Some Kantians would argue that pulling the lever is morally wrong because it involves intentionally using the person on the side track as a means to save others. Others might argue that doing nothing also involves using the five people as a means to your own moral purity.\n",
       "\n",
       "**Reconciling:**\n",
       "\n",
       "*   **Compromise/Alternative:** Explore alternatives (e.g., is there a way to stop the trolley without harming anyone?).\n",
       "*   **Prioritize Inaction/Rights:** Acknowledge the strong deontological arguments against actively causing harm.\n",
       "*   **Justification:** If pulling the lever is deemed necessary (e.g., no other options), justify it by arguing that the duty to save lives outweighs the duty to avoid actively causing harm in this specific, exceptional circumstance.  Acknowledge the tragic nature of the decision and the inherent moral cost.\n",
       "\n",
       "**In Conclusion:**\n",
       "\n",
       "Reconciling utilitarian and deontological ethics is an ongoing process that requires careful consideration of the specific circumstances of each moral dilemma. There is no easy formula, but by acknowledging the value of both frameworks, identifying the key principles and potential consequences, and prioritizing fundamental rights, we can make more informed and ethically sound decisions. The goal is to find a morally justifiable action that maximizes well-being while minimizing harm and respecting fundamental rights and duties. This often involves accepting a \"least worst\" outcome and acknowledging the inherent moral complexity of difficult decisions.\n"
      ],
      "text/plain": [
       "<IPython.core.display.Markdown object>"
      ]
     },
     "metadata": {},
     "output_type": "display_data"
    }
   ],
   "source": [
    "response = gemini.chat.completions.create(model=model_name, messages=messages)\n",
    "answer = response.choices[0].message.content\n",
    "\n",
    "display(Markdown(answer))"
   ]
  },
  {
   "cell_type": "code",
   "execution_count": null,
   "id": "d634eea4",
   "metadata": {},
   "outputs": [],
   "source": []
  }
 ],
 "metadata": {
  "kernelspec": {
   "display_name": "foundation",
   "language": "python",
   "name": "python3"
  },
  "language_info": {
   "codemirror_mode": {
    "name": "ipython",
    "version": 3
   },
   "file_extension": ".py",
   "mimetype": "text/x-python",
   "name": "python",
   "nbconvert_exporter": "python",
   "pygments_lexer": "ipython3",
   "version": "3.12.7"
  }
 },
 "nbformat": 4,
 "nbformat_minor": 5
}
